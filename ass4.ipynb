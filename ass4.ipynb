{
 "cells": [
  {
   "cell_type": "code",
   "execution_count": 116,
   "metadata": {},
   "outputs": [],
   "source": [
    "import numpy as np\n",
    "import matplotlib.pyplot as plt\n",
    "import torch\n",
    "import random"
   ]
  },
  {
   "attachments": {},
   "cell_type": "markdown",
   "metadata": {},
   "source": [
    "## Dataset Creation"
   ]
  },
  {
   "cell_type": "code",
   "execution_count": 117,
   "metadata": {},
   "outputs": [],
   "source": [
    "min_len = 2\n",
    "max_len = 9\n",
    "num_samples = 5000\n",
    "eval_samples = 1000\n",
    "\n",
    "train_dataset = []\n",
    "test_dataset = []\n",
    "\n",
    "for i in range(num_samples+eval_samples):\n",
    "    len = random.sample(range(min_len, max_len+1), 1)\n",
    "    x_1 = torch.rand(1, len[0])\n",
    "    x_2 = torch.zeros(1, len[0])\n",
    "    pos = random.sample(range(len[0]), 2)\n",
    "\n",
    "    x_2[0, pos[0]] = 1\n",
    "    x_2[0, pos[1]] = 1\n",
    "\n",
    "    x = torch.cat((x_1,x_2), 0)\n",
    "    y = torch.dot(x_1.reshape(len[0], ), x_2.reshape(len[0], ))\n",
    "    x.requires_grad = True\n",
    "    y.requires_grad = True\n",
    "\n",
    "    if(i<num_samples):\n",
    "        train_dataset.append([x,y])\n",
    "    else:\n",
    "        test_dataset.append([x,y])\n",
    "    \n"
   ]
  },
  {
   "attachments": {},
   "cell_type": "markdown",
   "metadata": {},
   "source": [
    "## Elmon RNN"
   ]
  },
  {
   "cell_type": "code",
   "execution_count": 118,
   "metadata": {},
   "outputs": [],
   "source": [
    "class ElmonRNN(torch.nn.Module):\n",
    "\n",
    "    def __init__(self, input_dim= 2, memory_size = 5, output_dim = 1):\n",
    "\n",
    "        super(ElmonRNN, self).__init__()\n",
    "        self.memory_size = memory_size\n",
    "        self.input_dim = input_dim\n",
    "        self.output_dim = output_dim\n",
    "\n",
    "        self.Wxh = torch.nn.Parameter(torch.randn(( self.memory_size, self.input_dim)))\n",
    "        self.Whh = torch.nn.Parameter(torch.randn(( self.memory_size, self.memory_size)))\n",
    "        self.Why = torch.nn.Parameter(torch.randn(( self.output_dim, self.memory_size)))\n",
    "\n",
    "        self.bh = torch.nn.Parameter(torch.randn(( self.memory_size)))\n",
    "        self.by = torch.nn.Parameter(torch.randn(( self.output_dim)))\n",
    "\n",
    "\n",
    "    def forward(self, x):\n",
    "        \n",
    "        dims = x.shape\n",
    "        len = dims[1]\n",
    "        h = torch.zeros(self.memory_size)\n",
    "\n",
    "        for t in range(len):\n",
    "            h = torch.tanh( torch.matmul( self.Wxh, x[:, t]) + torch.matmul(self.Whh, h)+ self.bh)\n",
    "        \n",
    "        out = torch.matmul(self.Why , h)+ self.by\n",
    "        return out\n",
    "\n",
    "rnn = ElmonRNN()\n"
   ]
  },
  {
   "attachments": {},
   "cell_type": "markdown",
   "metadata": {},
   "source": [
    "#### Training the Elmon RNN"
   ]
  },
  {
   "cell_type": "code",
   "execution_count": 119,
   "metadata": {},
   "outputs": [],
   "source": [
    "def MSELoss(outputs, labels):\n",
    "    loss = torch.square((outputs - labels))\n",
    "    return loss"
   ]
  },
  {
   "cell_type": "code",
   "execution_count": 120,
   "metadata": {},
   "outputs": [],
   "source": [
    "# criterion = torch.nn.MSELoss()\n",
    "optimizer = torch.optim.Adam(rnn.parameters(), lr=0.001)\n",
    "num_epochs = 5\n",
    "batch_sz = 100"
   ]
  },
  {
   "cell_type": "code",
   "execution_count": 121,
   "metadata": {},
   "outputs": [
    {
     "name": "stdout",
     "output_type": "stream",
     "text": [
      "Epoch = 1 and loss: 0.15419207231949464\n",
      "Epoch = 2 and loss: 0.11986126458063254\n",
      "Epoch = 3 and loss: 0.06623019817640254\n",
      "Epoch = 4 and loss: 0.039662152174283156\n",
      "Epoch = 5 and loss: 0.029656670083681287\n",
      "Finished Training of Elmon rnn\n"
     ]
    }
   ],
   "source": [
    "elmon_rnn_loss = []\n",
    "for epoch in range(num_epochs):  # loop over the dataset multiple times\n",
    "\n",
    "    running_loss = 0.0\n",
    "    random.shuffle(train_dataset)\n",
    "    # random.shuffle(dataset)\n",
    "    for j in range(0, num_samples, batch_sz):\n",
    "        for i, data in enumerate(train_dataset[j:j+batch_sz]):\n",
    "            # get the inputs; data is a list of [inputs, labels]\n",
    "\n",
    "            inputs = data[0]\n",
    "            labels = data[1].reshape((1))\n",
    "\n",
    "            # zero the parameter gradients\n",
    "            optimizer.zero_grad()\n",
    "\n",
    "            # forward + backward + optimize\n",
    "            # with torch.autograd.detect_anomaly():\n",
    "            outputs = rnn(inputs)     \n",
    "            loss = MSELoss(outputs, labels)\n",
    "            loss.backward()\n",
    "            \n",
    "            optimizer.step()\n",
    "            running_loss += loss.item()\n",
    "    loss = (running_loss/num_samples)\n",
    "    print(f'Epoch = {epoch + 1} and loss: {loss}')\n",
    "    elmon_rnn_loss.append(loss)\n",
    "  \n",
    "\n",
    "print('Finished Training of Elmon rnn')"
   ]
  },
  {
   "attachments": {},
   "cell_type": "markdown",
   "metadata": {},
   "source": [
    "#### Prediction from the Elmon RNN"
   ]
  },
  {
   "cell_type": "code",
   "execution_count": 122,
   "metadata": {},
   "outputs": [
    {
     "name": "stdout",
     "output_type": "stream",
     "text": [
      "Testing loss: 0.022133088999301633\n"
     ]
    }
   ],
   "source": [
    "running_loss =0.0\n",
    "rnn.eval()\n",
    "for i, data in enumerate(test_dataset):\n",
    "    # get the inputs; data is a list of [inputs, labels]\n",
    "\n",
    "    inputs = data[0]\n",
    "    labels = data[1].reshape((1))\n",
    "\n",
    "    # forward + backward + optimize\n",
    "    # with torch.autograd.detect_anomaly():\n",
    "    outputs = rnn(inputs)     \n",
    "    loss = MSELoss(outputs, labels)\n",
    "    running_loss += loss.item()\n",
    "ernnLoss = (running_loss/eval_samples)\n",
    "print(f'Testing loss: {ernnLoss}')\n",
    "  "
   ]
  },
  {
   "attachments": {},
   "cell_type": "markdown",
   "metadata": {},
   "source": [
    "## LSTM"
   ]
  },
  {
   "cell_type": "code",
   "execution_count": 123,
   "metadata": {},
   "outputs": [],
   "source": [
    "class LSTM(torch.nn.Module):\n",
    "\n",
    "    def __init__(self, input_dim= 2, cell_sz = 10, output_dim = 1):\n",
    "\n",
    "        super(LSTM, self).__init__()\n",
    "        self.cell_sz = cell_sz\n",
    "        self.input_dim = input_dim\n",
    "        self.output_dim = output_dim\n",
    "\n",
    "        self.Wi = torch.nn.Parameter(torch.randn(( self.cell_sz, self.input_dim + self.cell_sz)))\n",
    "        self.Wc = torch.nn.Parameter(torch.randn(( self.cell_sz, self.input_dim + self.cell_sz)))\n",
    "        self.Wf = torch.nn.Parameter(torch.randn(( self.cell_sz, self.input_dim + self.cell_sz)))\n",
    "        self.Wo = torch.nn.Parameter(torch.randn(( self.cell_sz, self.input_dim + self.cell_sz)))\n",
    "        self.Why = torch.nn.Parameter(torch.randn(( self.output_dim, self.cell_sz)))\n",
    "\n",
    "        self.bi = torch.nn.Parameter(torch.randn(( self.cell_sz)))\n",
    "        self.bf = torch.nn.Parameter(torch.randn(( self.cell_sz)))\n",
    "        self.bc = torch.nn.Parameter(torch.randn(( self.cell_sz)))\n",
    "        self.bo = torch.nn.Parameter(torch.randn(( self.cell_sz)))\n",
    "        self.bhy = torch.nn.Parameter(torch.randn(( self.output_dim)))\n",
    "\n",
    "\n",
    "    def forward(self, x):\n",
    "        \n",
    "        dims = x.shape\n",
    "        len = dims[1]\n",
    "        h = torch.zeros(self.cell_sz)\n",
    "        C = torch.zeros(self.cell_sz)\n",
    "\n",
    "        for t in range(len):\n",
    "\n",
    "            ht_1_xt = torch.cat((h, x[:, t]), 0)\n",
    "            \n",
    "            # LSTM gates\n",
    "            it = torch.sigmoid( torch.matmul( self.Wi, ht_1_xt)+ self.bi )\n",
    "            ft = torch.sigmoid( torch.matmul( self.Wf, ht_1_xt) + self.bf  )\n",
    "            ot = torch.sigmoid( torch.matmul( self.Wo, ht_1_xt) + self.bo )\n",
    "\n",
    "            C_dash_t = torch.tanh( torch.matmul( self.Wc, ht_1_xt)+ self.bc )\n",
    "\n",
    "            C = torch.mul(ft, C) + torch.mul(it, C_dash_t)\n",
    "\n",
    "            h = torch.mul(ot, torch.tanh(C))\n",
    "            \n",
    "        out = torch.matmul( self.Why, h)+ self.bhy\n",
    "        return out\n",
    "\n",
    "lstm = LSTM()"
   ]
  },
  {
   "attachments": {},
   "cell_type": "markdown",
   "metadata": {},
   "source": [
    "#### Training the LSTM"
   ]
  },
  {
   "cell_type": "code",
   "execution_count": 124,
   "metadata": {},
   "outputs": [],
   "source": [
    "optimizer = torch.optim.Adam(lstm.parameters(), lr=0.01)"
   ]
  },
  {
   "cell_type": "code",
   "execution_count": 125,
   "metadata": {},
   "outputs": [
    {
     "name": "stdout",
     "output_type": "stream",
     "text": [
      "Epoch = 1 and loss: 0.021947368252711916\n",
      "Epoch = 2 and loss: 0.004163307948793118\n",
      "Epoch = 3 and loss: 0.0021916690010598495\n",
      "Epoch = 4 and loss: 0.0010658559574546467\n",
      "Epoch = 5 and loss: 0.000899066974146482\n",
      "Finished Training of LSTM\n"
     ]
    }
   ],
   "source": [
    "lstm_loss = []\n",
    "for epoch in range(num_epochs):  # loop over the dataset multiple times\n",
    "\n",
    "    running_loss = 0.0\n",
    "    random.shuffle(train_dataset)\n",
    "    for j in range(0, num_samples, batch_sz):\n",
    "        for i, data in enumerate(train_dataset[j:j+batch_sz]):\n",
    "            # get the inputs; data is a list of [inputs, labels]\n",
    "            \n",
    "            inputs = data[0]\n",
    "            labels = data[1].reshape((1))\n",
    "\n",
    "            # zero the parameter gradients\n",
    "            optimizer.zero_grad()\n",
    "\n",
    "            # forward + backward + optimize\n",
    "            # with torch.autograd.detect_anomaly():\n",
    "            outputs = lstm(inputs)     \n",
    "            loss = MSELoss(outputs, labels)\n",
    "            loss.backward()\n",
    "            \n",
    "            optimizer.step()\n",
    "            running_loss += loss.item()\n",
    "\n",
    "    loss = (running_loss/num_samples)\n",
    "    print(f'Epoch = {epoch + 1} and loss: {loss}')\n",
    "    lstm_loss.append(loss)\n",
    "  \n",
    "\n",
    "print(\"Finished Training of LSTM\")"
   ]
  },
  {
   "attachments": {},
   "cell_type": "markdown",
   "metadata": {},
   "source": [
    "#### Prediction from LSTM"
   ]
  },
  {
   "cell_type": "code",
   "execution_count": 126,
   "metadata": {},
   "outputs": [
    {
     "name": "stdout",
     "output_type": "stream",
     "text": [
      "Testing loss: 0.00021381875950689277\n"
     ]
    }
   ],
   "source": [
    "running_loss =0.0\n",
    "lstm.eval()\n",
    "for i, data in enumerate(test_dataset):\n",
    "    # get the inputs; data is a list of [inputs, labels]\n",
    "\n",
    "    inputs = data[0]\n",
    "    labels = data[1].reshape((1))\n",
    "\n",
    "    # forward + backward + optimize\n",
    "    # with torch.autograd.detect_anomaly():\n",
    "    outputs = lstm(inputs)     \n",
    "    loss = MSELoss(outputs, labels)\n",
    "    running_loss += loss.item()\n",
    "lstmLoss = (running_loss/eval_samples)\n",
    "print(f'Testing loss: {lstmLoss}')\n",
    "  "
   ]
  },
  {
   "attachments": {},
   "cell_type": "markdown",
   "metadata": {},
   "source": [
    "## GRU"
   ]
  },
  {
   "cell_type": "code",
   "execution_count": 127,
   "metadata": {},
   "outputs": [],
   "source": [
    "class GRU(torch.nn.Module):\n",
    "\n",
    "    def __init__(self, input_dim= 2, hid_dim = 10, out_dim = 1):\n",
    "\n",
    "        super(GRU, self).__init__()\n",
    "        self.hid_dim = hid_dim\n",
    "        self.input_dim = input_dim\n",
    "        self.out_dim = out_dim\n",
    "\n",
    "        self.Wz = torch.nn.Parameter(torch.randn(( self.hid_dim, self.input_dim + self.hid_dim)))\n",
    "        self.Wr = torch.nn.Parameter(torch.randn(( self.hid_dim, self.input_dim + self.hid_dim)))\n",
    "        self.W = torch.nn.Parameter(torch.randn(( self.hid_dim, self.input_dim + self.hid_dim)))\n",
    "        self.Why = torch.nn.Parameter(torch.randn(( self.out_dim, self.hid_dim)))\n",
    "\n",
    "        self.bz = torch.nn.Parameter(torch.randn(( self.hid_dim)))\n",
    "        self.br = torch.nn.Parameter(torch.randn((self.hid_dim)))\n",
    "        self.b = torch.nn.Parameter(torch.randn(( self.hid_dim)))\n",
    "        self.bhy = torch.nn.Parameter(torch.randn(( self.out_dim)))\n",
    "        \n",
    "\n",
    "    def forward(self, x):\n",
    "        \n",
    "        dims = x.shape\n",
    "        len = dims[1]\n",
    "        h = torch.zeros((self.hid_dim))\n",
    "\n",
    "        for t in range(len):\n",
    "\n",
    "            ht_1_xt = torch.cat((h, x[:, t]), 0)\n",
    "            \n",
    "            #  GRU gates\n",
    "            zt = torch.sigmoid( torch.matmul( self.Wz, ht_1_xt) + self.bz)\n",
    "            rt = torch.sigmoid( torch.matmul( self.Wr, ht_1_xt)+ self.br )\n",
    "\n",
    "            ht_rt = torch.cat((torch.mul(rt, h), x[:, t]), 0)\n",
    "            h_dash_t = torch.tanh( torch.matmul( self.W, ht_rt) + self.b)\n",
    "\n",
    "            h = torch.mul(1-zt, h) + torch.mul(zt, h_dash_t)\n",
    "            \n",
    "        out = torch.matmul( self.Why, h)+ self.bhy\n",
    "        return out\n",
    "\n",
    "gru = GRU()"
   ]
  },
  {
   "cell_type": "markdown",
   "metadata": {},
   "source": [
    "#### Training the LSTM"
   ]
  },
  {
   "cell_type": "code",
   "execution_count": 128,
   "metadata": {},
   "outputs": [],
   "source": [
    "optimizer = torch.optim.Adam(gru.parameters(), lr=0.01)"
   ]
  },
  {
   "cell_type": "code",
   "execution_count": 129,
   "metadata": {},
   "outputs": [
    {
     "name": "stdout",
     "output_type": "stream",
     "text": [
      "Epoch = 1 and loss: 0.02617255956391519\n",
      "Epoch = 2 and loss: 0.0032096395183546763\n",
      "Epoch = 3 and loss: 0.001499893348542161\n",
      "Epoch = 4 and loss: 0.0009566579726150522\n",
      "Epoch = 5 and loss: 0.0007975512212371491\n",
      "Finished Training of GRU\n"
     ]
    }
   ],
   "source": [
    "gru_loss = []\n",
    "for epoch in range(num_epochs):  # loop over the dataset multiple times\n",
    "\n",
    "    running_loss = 0.0\n",
    "    random.shuffle(train_dataset)\n",
    "    for j in range(0, num_samples, batch_sz):\n",
    "        for i, data in enumerate(train_dataset[j:j+batch_sz]):\n",
    "            # get the inputs; data is a list of [inputs, labels]\n",
    "            \n",
    "            inputs = data[0]\n",
    "            labels = data[1].reshape((1))\n",
    "\n",
    "            # zero the parameter gradients\n",
    "            optimizer.zero_grad()\n",
    "\n",
    "            # forward + backward + optimize\n",
    "            # with torch.autograd.detect_anomaly():\n",
    "            outputs = gru(inputs)     \n",
    "            loss = MSELoss(outputs, labels)\n",
    "            loss.backward()\n",
    "            \n",
    "            optimizer.step()\n",
    "            running_loss += loss.item()\n",
    "    loss = (running_loss/num_samples)\n",
    "    print(f'Epoch = {epoch + 1} and loss: {loss}')\n",
    "    gru_loss.append(loss)\n",
    "  \n",
    "\n",
    "print(\"Finished Training of GRU\")"
   ]
  },
  {
   "attachments": {},
   "cell_type": "markdown",
   "metadata": {},
   "source": [
    "#### Predicting from GRU"
   ]
  },
  {
   "cell_type": "code",
   "execution_count": 130,
   "metadata": {},
   "outputs": [
    {
     "name": "stdout",
     "output_type": "stream",
     "text": [
      "Testing loss: 0.0003561706333989356\n"
     ]
    }
   ],
   "source": [
    "running_loss =0.0\n",
    "gru.eval()\n",
    "for i, data in enumerate(test_dataset):\n",
    "    # get the inputs; data is a list of [inputs, labels]\n",
    "\n",
    "    inputs = data[0]\n",
    "    labels = data[1].reshape((1))\n",
    "\n",
    "    # forward + backward + optimize\n",
    "    # with torch.autograd.detect_anomaly():\n",
    "    outputs = gru(inputs)     \n",
    "    loss = MSELoss(outputs, labels)\n",
    "    running_loss += loss.item()\n",
    "gruLoss = (running_loss/eval_samples)\n",
    "print(f'Testing loss: {gruLoss}')\n",
    "  "
   ]
  },
  {
   "attachments": {},
   "cell_type": "markdown",
   "metadata": {},
   "source": [
    "## Baselines and Comparisons"
   ]
  },
  {
   "cell_type": "code",
   "execution_count": 131,
   "metadata": {},
   "outputs": [
    {
     "name": "stdout",
     "output_type": "stream",
     "text": [
      "Baseline loss: 0.16778838634490967\n"
     ]
    }
   ],
   "source": [
    "running_loss = 0.0\n",
    "random.shuffle(train_dataset)\n",
    "for j in range(0, num_samples):\n",
    "            \n",
    "    inputs = data[0]\n",
    "    labels = data[1].reshape((1))\n",
    "\n",
    "\n",
    "    # forward + backward + optimize\n",
    "    # with torch.autograd.detect_anomaly():\n",
    "    outputs = torch.tensor([1])   \n",
    "    loss = MSELoss(outputs, labels)\n",
    "    running_loss += loss.item()\n",
    "baseline_loss = (running_loss/num_samples)\n",
    "print(f'Baseline loss: {baseline_loss}')"
   ]
  },
  {
   "cell_type": "code",
   "execution_count": 132,
   "metadata": {},
   "outputs": [
    {
     "name": "stdout",
     "output_type": "stream",
     "text": [
      "Testing loss: 0.1574774493059224\n"
     ]
    }
   ],
   "source": [
    "running_loss =0.0\n",
    "for i, data in enumerate(test_dataset):\n",
    "    # get the inputs; data is a list of [inputs, labels]\n",
    "\n",
    "    inputs = data[0]\n",
    "    labels = data[1].reshape((1))\n",
    "\n",
    "    # forward + backward + optimize\n",
    "    # with torch.autograd.detect_anomaly():\n",
    "    outputs = torch.tensor([1]) \n",
    "    loss = MSELoss(outputs, labels)\n",
    "    running_loss += loss.item()\n",
    "baseLoss = (running_loss/eval_samples)\n",
    "print(f'Testing loss: {baseLoss}')"
   ]
  },
  {
   "cell_type": "code",
   "execution_count": 141,
   "metadata": {},
   "outputs": [
    {
     "data": {
      "image/png": "[encoded data removed]",
      "text/plain": [
       "<Figure size 640x480 with 1 Axes>"
      ]
     },
     "metadata": {},
     "output_type": "display_data"
    }
   ],
   "source": [
    "# Loss comparison training\n",
    "\n",
    "x = np.arange(1, num_epochs+1)\n",
    "y = np.full((num_epochs),baseline_loss )\n",
    "\n",
    "plt.plot(x, y, color= 'k', label = \"Baseline\")  \n",
    "plt.plot(x, elmon_rnn_loss,color= 'm', label = \"Elmon RNN\")  \n",
    "plt.plot(x, lstm_loss,color= 'b',  label = \"LSTM\")\n",
    "plt.plot(x, gru_loss, color= 'r', label = \"GRU\")\n",
    "plt.xlabel('No. of Epochs')\n",
    "plt.ylabel('Loss')\n",
    "\n",
    "plt.title('Learning Curves')\n",
    "plt.legend()\n",
    "plt.show()"
   ]
  },
  {
   "cell_type": "code",
   "execution_count": 142,
   "metadata": {},
   "outputs": [
    {
     "data": {
      "image/png": "[encoded data removed]",
      "text/plain": [
       "<Figure size 640x480 with 1 Axes>"
      ]
     },
     "metadata": {},
     "output_type": "display_data"
    }
   ],
   "source": [
    "# Final Performance Comparison \n",
    "x = np.arange(1, num_epochs+1)\n",
    "\n",
    "ernnLoss = np.full(num_epochs, ernnLoss)\n",
    "lstmLoss = np.full(num_epochs, lstmLoss)\n",
    "gruLoss = np.full(num_epochs, gruLoss)\n",
    "baseLoss = np.full(num_epochs, baseLoss)\n",
    "\n",
    "plt.plot(x, baseLoss, color= 'k', label = \"Baseline\")  \n",
    "plt.plot(x, ernnLoss,color= 'm', label = \"Elmon RNN\")  \n",
    "plt.plot(x, lstmLoss,color= 'b',  label = \"LSTM\")\n",
    "plt.plot(x, gruLoss, color= 'r', label = \"GRU\")\n",
    "plt.xlabel('After Training')\n",
    "plt.ylabel('Loss')\n",
    "\n",
    "plt.title('Final Performance')\n",
    "plt.legend()\n",
    "plt.show()"
   ]
  }
 ],
 "metadata": {
  "kernelspec": {
   "display_name": "base",
   "language": "python",
   "name": "python3"
  },
  "language_info": {
   "codemirror_mode": {
    "name": "ipython",
    "version": 3
   },
   "file_extension": ".py",
   "mimetype": "text/x-python",
   "name": "python",
   "nbconvert_exporter": "python",
   "pygments_lexer": "ipython3",
   "version": "3.9.13"
  },
  "orig_nbformat": 4
 },
 "nbformat": 4,
 "nbformat_minor": 2
}
